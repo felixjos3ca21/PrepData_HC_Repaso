{
 "cells": [
  {
   "cell_type": "code",
   "execution_count": 3,
   "metadata": {},
   "outputs": [],
   "source": [
    "def DividirDosNumeros(dividendo, divisor):\n",
    "    '''\n",
    "    Esta función devuelve dos valores, la parte entera de la división y su resto\n",
    "    Recibe dos argumentos:\n",
    "        dividendo: El número que va a ser dividido\n",
    "        divisor: El número que va a dividir\n",
    "    Ej:\n",
    "        DividirDosNumeros(10,3) debe retornar 3, 1\n",
    "    '''\n",
    "    parte_entera = None\n",
    "    resto = None\n",
    "\n",
    "    #Tu código aca:\n",
    "    resto = dividendo % divisor\n",
    "    parte_entera = dividendo // divisor\n",
    "\n",
    "    return parte_entera, resto"
   ]
  },
  {
   "cell_type": "code",
   "execution_count": 7,
   "metadata": {},
   "outputs": [
    {
     "data": {
      "text/plain": [
       "(5, 2)"
      ]
     },
     "execution_count": 7,
     "metadata": {},
     "output_type": "execute_result"
    }
   ],
   "source": [
    "DividirDosNumeros(17,3\n",
    ")"
   ]
  },
  {
   "cell_type": "code",
   "execution_count": 27,
   "metadata": {},
   "outputs": [],
   "source": [
    "def ProximoPrimo(actual_primo):\n",
    "    '''\n",
    "    Esta función devuelve el número primo siguiente al enviado como parámetro.\n",
    "    En caso de que el parámetro no sea de tipo entero y/o no sea un número primo, debe retornar nulo.\n",
    "    Recibe un argumento:\n",
    "        actual_primo: Será el número primo a partir del cual debo buscar el siguiente\n",
    "    Ej:\n",
    "        ProximoPrimo(7) debe retornar 11\n",
    "        ProximoPrimo(8) debe retornar nulo\n",
    "    '''\n",
    "    #Tu código aca:\n",
    "    def primo(n):\n",
    "        primo = True\n",
    "        for i in range(2,n):\n",
    "            if (n % i == 0):\n",
    "                primo = False\n",
    "                break\n",
    "        return primo\n",
    "\n",
    "    if type(actual_primo) != int:\n",
    "        return None\n",
    "        \n",
    "    elif primo(actual_primo)== False:\n",
    "        print(\"el Valor no es primo\")\n",
    "    else:\n",
    "        siguiente_primo = actual_primo + 1\n",
    "        while(primo(siguiente_primo)==False):\n",
    "            siguiente_primo = siguiente_primo + 1 # siguiente_primo +=1\n",
    "\n",
    "        return siguiente_primo"
   ]
  },
  {
   "cell_type": "code",
   "execution_count": 28,
   "metadata": {},
   "outputs": [
    {
     "data": {
      "text/plain": [
       "11"
      ]
     },
     "execution_count": 28,
     "metadata": {},
     "output_type": "execute_result"
    }
   ],
   "source": [
    "ProximoPrimo(7)"
   ]
  },
  {
   "cell_type": "code",
   "execution_count": 13,
   "metadata": {},
   "outputs": [],
   "source": [
    "def primo(n):\n",
    "    primo = True\n",
    "    for i in range(2,n):\n",
    "        if (n % i == 0):\n",
    "            primo = False\n",
    "            break\n",
    "    return primo"
   ]
  },
  {
   "cell_type": "code",
   "execution_count": 23,
   "metadata": {},
   "outputs": [
    {
     "name": "stdout",
     "output_type": "stream",
     "text": [
      "13\n"
     ]
    }
   ],
   "source": [
    "actual_primo = 11\n",
    "if type(actual_primo) != int:\n",
    "    print(\" no es Entero\")\n",
    "elif primo(actual_primo)== False:\n",
    "    print(\"el Valor no es primo\")\n",
    "else:\n",
    "    siguiente_primo = actual_primo + 1\n",
    "    while(primo(siguiente_primo)==False):\n",
    "        siguiente_primo = siguiente_primo + 1 # siguiente_primo +=1\n",
    "    print(siguiente_primo)"
   ]
  },
  {
   "cell_type": "code",
   "execution_count": 20,
   "metadata": {},
   "outputs": [
    {
     "data": {
      "text/plain": [
       "False"
      ]
     },
     "execution_count": 20,
     "metadata": {},
     "output_type": "execute_result"
    }
   ],
   "source": [
    "primo(21)"
   ]
  },
  {
   "cell_type": "code",
   "execution_count": 44,
   "metadata": {},
   "outputs": [],
   "source": [
    "class Animal:\n",
    "    def __init__(self, especie, color):\n",
    "        self.especie = especie\n",
    "        self.color = color\n",
    "        self.edad = 0\n",
    "\n",
    "    def cumplirAnios(self):\n",
    "        self.edad+=1\n",
    "        return self.edad\n",
    "    \n",
    "\n",
    "\n",
    "    \n",
    "\n"
   ]
  },
  {
   "cell_type": "code",
   "execution_count": 43,
   "metadata": {},
   "outputs": [
    {
     "data": {
      "text/plain": [
       "<__main__.Animal at 0x193447b0e50>"
      ]
     },
     "execution_count": 43,
     "metadata": {},
     "output_type": "execute_result"
    }
   ],
   "source": [
    "Animal(\"canino\", \"azul\")"
   ]
  },
  {
   "cell_type": "code",
   "execution_count": 45,
   "metadata": {},
   "outputs": [],
   "source": [
    "def ClaseAnimal(especie, color):\n",
    "    '''\n",
    "    Esta función devuelve un objeto instanciado de la clase Animal, \n",
    "    la cual debe tener los siguientes atributos:\n",
    "        Edad    (Un valor de tipo de dato entero, que debe inicializarse en cero)\n",
    "        Especie (Un valor de tipo de dato string)\n",
    "        Color   (Un valor de tipo de dato string)\n",
    "    y debe tener el siguiente método:\n",
    "        CumplirAnios  (este método debe sumar uno al atributo Edad y debe devolver ese valor)\n",
    "    Recibe dos argumento:\n",
    "        especie: Dato que se asignará al atributo Especie del objeto de la clase Animal\n",
    "        color: Dato que se asignará al atributo Color del objeto de la clase Animal\n",
    "    Ej:\n",
    "        a = ClaseAnimal('perro','blanco')\n",
    "        a.CumpliAnios() -> debe devolver 1\n",
    "        a.CumpliAnios() -> debe devolver 2\n",
    "        a.CumpliAnios() -> debe devolver 3\n",
    "    '''\n",
    "    #Tu código aca:\n",
    "    class Animal:    \n",
    "        def __init__(self, especie, color):\n",
    "            self.especie = especie\n",
    "            self.color = color\n",
    "            self.edad = 0\n",
    "\n",
    "        def cumplirAnios(self):\n",
    "            self.edad = self.edad +1\n",
    "            return self.edad\n",
    "    \n",
    "    return Animal(especie, color)"
   ]
  },
  {
   "cell_type": "code",
   "execution_count": 46,
   "metadata": {},
   "outputs": [],
   "source": [
    "a = ClaseAnimal(\"perro\", \"azul\")"
   ]
  },
  {
   "cell_type": "code",
   "execution_count": 51,
   "metadata": {},
   "outputs": [
    {
     "data": {
      "text/plain": [
       "5"
      ]
     },
     "execution_count": 51,
     "metadata": {},
     "output_type": "execute_result"
    }
   ],
   "source": [
    "a.cumplirAnios()\n"
   ]
  },
  {
   "cell_type": "code",
   "execution_count": 54,
   "metadata": {},
   "outputs": [],
   "source": [
    "b = ClaseAnimal(\"ballena\",\"blanca\")"
   ]
  },
  {
   "cell_type": "code",
   "execution_count": 57,
   "metadata": {},
   "outputs": [
    {
     "data": {
      "text/plain": [
       "3"
      ]
     },
     "execution_count": 57,
     "metadata": {},
     "output_type": "execute_result"
    }
   ],
   "source": [
    "b.cumplirAnios()"
   ]
  },
  {
   "cell_type": "code",
   "execution_count": 58,
   "metadata": {},
   "outputs": [
    {
     "name": "stdout",
     "output_type": "stream",
     "text": [
      "0\n",
      "1\n",
      "2\n",
      "3\n",
      "4\n",
      "5\n",
      "6\n",
      "7\n",
      "8\n",
      "9\n",
      "10\n",
      "11\n",
      "12\n",
      "13\n",
      "14\n",
      "15\n",
      "16\n",
      "17\n",
      "18\n",
      "19\n"
     ]
    }
   ],
   "source": [
    "for i in range(0,20):\n",
    "    print(i)"
   ]
  }
 ],
 "metadata": {
  "kernelspec": {
   "display_name": "Python 3",
   "language": "python",
   "name": "python3"
  },
  "language_info": {
   "codemirror_mode": {
    "name": "ipython",
    "version": 3
   },
   "file_extension": ".py",
   "mimetype": "text/x-python",
   "name": "python",
   "nbconvert_exporter": "python",
   "pygments_lexer": "ipython3",
   "version": "3.10.9"
  },
  "orig_nbformat": 4,
  "vscode": {
   "interpreter": {
    "hash": "cf1a2d9465a9e1b66fb459bf22a3ff43b0bc772c7cc37da29e7a9fcad7fcf9c2"
   }
  }
 },
 "nbformat": 4,
 "nbformat_minor": 2
}
